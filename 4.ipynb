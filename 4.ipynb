{
  "nbformat": 4,
  "nbformat_minor": 0,
  "metadata": {
    "colab": {
      "provenance": []
    },
    "kernelspec": {
      "name": "python3",
      "display_name": "Python 3"
    },
    "language_info": {
      "name": "python"
    }
  },
  "cells": [
    {
      "cell_type": "code",
      "execution_count": null,
      "metadata": {
        "id": "LIZvZ18LNKCk"
      },
      "outputs": [],
      "source": [
        "import yfinance as yf\n",
        "import numpy as np\n",
        "import pandas as pd\n",
        "import matplotlib.pyplot as plt\n",
        "import tensorflow as tf\n",
        "from tensorflow.keras import layers\n",
        "from sklearn.preprocessing import MinMaxScaler\n"
      ]
    },
    {
      "cell_type": "code",
      "source": [
        "data = yf.download('GOOGL', start='2012-01-01', end='2016-12-31')\n",
        "\n",
        "data.head()\n"
      ],
      "metadata": {
        "id": "zgkFE84GNU2V"
      },
      "execution_count": null,
      "outputs": []
    },
    {
      "cell_type": "code",
      "source": [
        "open_prices = data[['Open']].values\n",
        "\n",
        "scaler = MinMaxScaler(feature_range=(0, 1))\n",
        "open_prices_scaled = scaler.fit_transform(open_prices)\n",
        "\n",
        "X_train = []\n",
        "y_train = []\n",
        "\n",
        "for i in range(60, len(open_prices_scaled)):\n",
        "    X_train.append(open_prices_scaled[i-60:i, 0])\n",
        "    y_train.append(open_prices_scaled[i, 0])\n",
        "\n",
        "X_train, y_train = np.array(X_train), np.array(y_train)\n",
        "\n",
        "X_train = np.reshape(X_train, (X_train.shape[0], X_train.shape[1], 1))\n"
      ],
      "metadata": {
        "id": "A9jZYoiZNZDz"
      },
      "execution_count": null,
      "outputs": []
    },
    {
      "cell_type": "code",
      "source": [
        "model = tf.keras.Sequential([\n",
        "    layers.SimpleRNN(50, return_sequences=True, input_shape=(X_train.shape[1], 1)),\n",
        "    layers.SimpleRNN(50),\n",
        "    layers.Dense(1)\n",
        "])\n",
        "\n",
        "model.compile(optimizer='adam', loss='mean_squared_error')\n"
      ],
      "metadata": {
        "id": "SYsZUAPJNbXj"
      },
      "execution_count": null,
      "outputs": []
    },
    {
      "cell_type": "code",
      "source": [
        "history = model.fit(X_train, y_train, epochs=20, batch_size=32, verbose=1)\n"
      ],
      "metadata": {
        "id": "T7A_yUOJNdTa"
      },
      "execution_count": null,
      "outputs": []
    },
    {
      "cell_type": "code",
      "source": [
        "test_data = yf.download('GOOGL', start='2017-01-01', end='2017-12-31')\n",
        "real_stock_price = test_data[['Open']].values\n",
        "\n",
        "total_data = pd.concat((data['Open'], test_data['Open']), axis=0)\n",
        "\n",
        "inputs = total_data[len(total_data) - len(test_data) - 60:].values\n",
        "inputs = inputs.reshape(-1, 1)\n",
        "inputs = scaler.transform(inputs)\n",
        "\n",
        "X_test = []\n",
        "for i in range(60, len(inputs)):\n",
        "    X_test.append(inputs[i-60:i, 0])\n",
        "X_test = np.array(X_test)\n",
        "X_test = np.reshape(X_test, (X_test.shape[0], X_test.shape[1], 1))\n",
        "\n",
        "predicted_stock_price = model.predict(X_test)\n",
        "\n",
        "predicted_stock_price = scaler.inverse_transform(predicted_stock_price)\n"
      ],
      "metadata": {
        "id": "dMi0sOiuNhHS"
      },
      "execution_count": null,
      "outputs": []
    },
    {
      "cell_type": "code",
      "source": [
        "plt.figure(figsize=(10,6))\n",
        "plt.plot(real_stock_price, color='red', label='Real Google Stock Price')\n",
        "plt.plot(predicted_stock_price, color='blue', label='Predicted Google Stock Price')\n",
        "plt.title('Google Stock Price Prediction (RNN)')\n",
        "plt.xlabel('Time')\n",
        "plt.ylabel('Stock Price')\n",
        "plt.legend()\n",
        "plt.show()\n"
      ],
      "metadata": {
        "id": "p2JqQt9YNlzT"
      },
      "execution_count": null,
      "outputs": []
    }
  ]
}