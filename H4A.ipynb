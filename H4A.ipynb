{
  "nbformat": 4,
  "nbformat_minor": 0,
  "metadata": {
    "colab": {
      "provenance": [],
      "gpuType": "T4"
    },
    "kernelspec": {
      "name": "python3",
      "display_name": "Python 3"
    },
    "language_info": {
      "name": "python"
    },
    "accelerator": "GPU"
  },
  "cells": [
    {
      "cell_type": "code",
      "execution_count": null,
      "metadata": {
        "id": "ElNR9ecK_jLp"
      },
      "outputs": [],
      "source": [
        "%%writefile vector_add.cu\n",
        "#include <stdio.h>\n",
        "#include <cuda_runtime.h>\n",
        "\n",
        "__global__ void vectorAdd(float *a, float *b, float *c, int n) {\n",
        "    int i = blockIdx.x * blockDim.x + threadIdx.x;\n",
        "    if (i < n) {\n",
        "        c[i] = a[i] + b[i];\n",
        "    }\n",
        "}\n",
        "\n",
        "#define CHECK_CUDA_ERROR(call) \\\n",
        "    do { \\\n",
        "        cudaError_t err = call; \\\n",
        "        if (err != cudaSuccess) { \\\n",
        "            fprintf(stderr, \"CUDA error in %s at line %d: %s\\n\", __FILE__, __LINE__, cudaGetErrorString(err)); \\\n",
        "            return 1; \\\n",
        "        } \\\n",
        "    } while(0)\n",
        "\n",
        "int main() {\n",
        "    int n = 1 << 20;\n",
        "    size_t size = n * sizeof(float);\n",
        "\n",
        "    float *h_a = (float *)malloc(size);\n",
        "    float *h_b = (float *)malloc(size);\n",
        "    float *h_c = (float *)malloc(size);\n",
        "\n",
        "    for (int i = 0; i < n; i++) {\n",
        "        h_a[i] = float(i);\n",
        "        h_b[i] = float(i * 2);\n",
        "    }\n",
        "\n",
        "    float *d_a, *d_b, *d_c;\n",
        "    CHECK_CUDA_ERROR(cudaMalloc((void **)&d_a, size));\n",
        "    CHECK_CUDA_ERROR(cudaMalloc((void **)&d_b, size));\n",
        "    CHECK_CUDA_ERROR(cudaMalloc((void **)&d_c, size));\n",
        "\n",
        "    CHECK_CUDA_ERROR(cudaMemcpy(d_a, h_a, size, cudaMemcpyHostToDevice));\n",
        "    CHECK_CUDA_ERROR(cudaMemcpy(d_b, h_b, size, cudaMemcpyHostToDevice));\n",
        "\n",
        "    int threadsPerBlock = 256;\n",
        "    int blocksPerGrid = (n + threadsPerBlock - 1) / threadsPerBlock;\n",
        "    vectorAdd<<<blocksPerGrid, threadsPerBlock>>>(d_a, d_b, d_c, n);\n",
        "\n",
        "    CHECK_CUDA_ERROR(cudaGetLastError());\n",
        "\n",
        "    CHECK_CUDA_ERROR(cudaMemcpy(h_c, d_c, size, cudaMemcpyDeviceToHost));\n",
        "\n",
        "    for (int i = 0; i < 9; i++) {\n",
        "        printf(\"c[%d] = %f\\n\", i, h_c[i]);\n",
        "    }\n",
        "\n",
        "    cudaFree(d_a);\n",
        "    cudaFree(d_b);\n",
        "    cudaFree(d_c);\n",
        "    free(h_a);\n",
        "    free(h_b);\n",
        "    free(h_c);\n",
        "\n",
        "    return 0;\n",
        "}"
      ]
    },
    {
      "cell_type": "code",
      "source": [
        "!nvcc -arch=sm_75 vector_add.cu -o vector_add\n",
        "!./vector_add"
      ],
      "metadata": {
        "id": "5ZDo0huT_75O"
      },
      "execution_count": null,
      "outputs": []
    }
  ]
}